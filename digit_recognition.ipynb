{
 "cells": [
  {
   "cell_type": "code",
   "execution_count": 1,
   "metadata": {},
   "outputs": [
    {
     "name": "stdout",
     "output_type": "stream",
     "text": [
      "(42000, 785)\n"
     ]
    }
   ],
   "source": [
    "import numpy as np\n",
    "import matplotlib.pyplot as pt\n",
    "import pandas as pd\n",
    "from sklearn.tree import DecisionTreeClassifier\n",
    "\n",
    "\n",
    "data=pd.read_csv(\"./train.csv\")\n",
    "#print(data.head())\n",
    "print(data.shape)"
   ]
  },
  {
   "cell_type": "code",
   "execution_count": 2,
   "metadata": {},
   "outputs": [],
   "source": [
    "dtc=DecisionTreeClassifier()\n",
    "\n",
    "train_pixels=data.iloc[0:21000,1:]\n",
    "train_label=data.iloc[0:21000,0]\n",
    "\n",
    "dtc.fit(train_pixels,train_label)\n",
    "\n",
    "test_pixels=data.iloc[21000:,1:]\n",
    "test_actual_label=data.iloc[21000:,0]\n"
   ]
  },
  {
   "cell_type": "code",
   "execution_count": 3,
   "metadata": {},
   "outputs": [
    {
     "data": {
      "image/png": "[encoded data removed]",
      "text/plain": [
       "<matplotlib.figure.Figure at 0x2531f31ac88>"
      ]
     },
     "metadata": {},
     "output_type": "display_data"
    },
    {
     "name": "stdout",
     "output_type": "stream",
     "text": [
      "Recognizing the digit...\n",
      "[6]\n"
     ]
    }
   ],
   "source": [
    "from numpy import shape\n",
    "k=651\n",
    "n=test_pixels.iloc[k]\n",
    "n=n.values.reshape(28,28)\n",
    "\n",
    "pt.imshow(255-n,cmap='gray')\n",
    "pt.show()\n",
    "\n",
    "print(\"Recognizing the digit...\")\n",
    "print(dtc.predict([test_pixels.iloc[k]]))"
   ]
  },
  {
   "cell_type": "code",
   "execution_count": 4,
   "metadata": {},
   "outputs": [
    {
     "name": "stdout",
     "output_type": "stream",
     "text": [
      "Accuracy is %  83.74285714285715\n"
     ]
    }
   ],
   "source": [
    "predicted_digits=dtc.predict(test_pixels)\n",
    "\n",
    "trues=0\n",
    "for i in range (0,21000):\n",
    "    \n",
    "    if (predicted_digits[i]==test_actual_label.iloc[i]):\n",
    "        trues+=1\n",
    "print(\"Accuracy is % \", trues/21000*100)"
   ]
  },
  {
   "cell_type": "code",
   "execution_count": null,
   "metadata": {},
   "outputs": [],
   "source": []
  }
 ],
 "metadata": {
  "kernelspec": {
   "display_name": "Python 3",
   "language": "python",
   "name": "python3"
  },
  "language_info": {
   "codemirror_mode": {
    "name": "ipython",
    "version": 3
   },
   "file_extension": ".py",
   "mimetype": "text/x-python",
   "name": "python",
   "nbconvert_exporter": "python",
   "pygments_lexer": "ipython3",
   "version": "3.6.4"
  }
 },
 "nbformat": 4,
 "nbformat_minor": 2
}
